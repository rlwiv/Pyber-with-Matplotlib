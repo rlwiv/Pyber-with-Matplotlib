{
 "cells": [
  {
   "cell_type": "code",
   "source": "# Add Matplotlib inline magic command\n%matplotlib inline\n# Dependencies and Setup\nimport matplotlib.pyplot as plt\nimport pandas as pd",
   "metadata": {
    "tags": [],
    "cell_id": "741310bb-b4b3-4465-8840-6f91281e920b",
    "deepnote_to_be_reexecuted": false,
    "source_hash": "143585b7",
    "execution_start": 1660242214534,
    "execution_millis": 1012,
    "deepnote_cell_type": "code",
    "deepnote_cell_height": 148
   },
   "execution_count": 1,
   "outputs": []
  },
  {
   "cell_type": "code",
   "source": "# Files to load\ncity_data_to_load = \"/work/city_data.csv\"\nride_data_to_load = \"/work/ride_data.csv\"",
   "metadata": {
    "cell_id": "6d25b7107eaa4642b2773988c87673b6",
    "tags": [],
    "deepnote_to_be_reexecuted": false,
    "source_hash": "78050cf1",
    "execution_start": 1660242294309,
    "execution_millis": 1,
    "deepnote_cell_type": "code",
    "deepnote_cell_height": 112
   },
   "outputs": [],
   "execution_count": 2
  },
  {
   "cell_type": "code",
   "source": "# Read the city data file and store it in a pandas DataFrame.\ncity_data_df = pd.read_csv(city_data_to_load)\ncity_data_df.head(10)",
   "metadata": {
    "cell_id": "33811a3d3f33432ea4a3af7179ddb54c",
    "tags": [],
    "deepnote_to_be_reexecuted": false,
    "source_hash": "d786e5b6",
    "execution_start": 1660242324913,
    "execution_millis": 33,
    "deepnote_cell_type": "code",
    "deepnote_cell_height": 631
   },
   "outputs": [
    {
     "output_type": "execute_result",
     "execution_count": 3,
     "data": {
      "application/vnd.deepnote.dataframe.v3+json": {
       "column_count": 3,
       "row_count": 10,
       "columns": [
        {
         "name": "city",
         "dtype": "object",
         "stats": {
          "unique_count": 10,
          "nan_count": 0,
          "categories": [
           {
            "name": "Richardfort",
            "count": 1
           },
           {
            "name": "Williamsstad",
            "count": 1
           },
           {
            "name": "8 others",
            "count": 8
           }
          ]
         }
        },
        {
         "name": "driver_count",
         "dtype": "int64",
         "stats": {
          "unique_count": 10,
          "nan_count": 0,
          "min": "22",
          "max": "70",
          "histogram": [
           {
            "bin_start": 22,
            "bin_end": 26.8,
            "count": 3
           },
           {
            "bin_start": 26.8,
            "bin_end": 31.6,
            "count": 0
           },
           {
            "bin_start": 31.6,
            "bin_end": 36.4,
            "count": 1
           },
           {
            "bin_start": 36.4,
            "bin_end": 41.2,
            "count": 2
           },
           {
            "bin_start": 41.2,
            "bin_end": 46,
            "count": 0
           },
           {
            "bin_start": 46,
            "bin_end": 50.8,
            "count": 1
           },
           {
            "bin_start": 50.8,
            "bin_end": 55.6,
            "count": 0
           },
           {
            "bin_start": 55.6,
            "bin_end": 60.4,
            "count": 1
           },
           {
            "bin_start": 60.4,
            "bin_end": 65.19999999999999,
            "count": 0
           },
           {
            "bin_start": 65.19999999999999,
            "bin_end": 70,
            "count": 2
           }
          ]
         }
        },
        {
         "name": "type",
         "dtype": "object",
         "stats": {
          "unique_count": 1,
          "nan_count": 0,
          "categories": [
           {
            "name": "Urban",
            "count": 10
           }
          ]
         }
        },
        {
         "name": "_deepnote_index_column",
         "dtype": "int64"
        }
       ],
       "rows": [
        {
         "city": "Richardfort",
         "driver_count": 38,
         "type": "Urban",
         "_deepnote_index_column": 0
        },
        {
         "city": "Williamsstad",
         "driver_count": 59,
         "type": "Urban",
         "_deepnote_index_column": 1
        },
        {
         "city": "Port Angela",
         "driver_count": 67,
         "type": "Urban",
         "_deepnote_index_column": 2
        },
        {
         "city": "Rodneyfort",
         "driver_count": 34,
         "type": "Urban",
         "_deepnote_index_column": 3
        },
        {
         "city": "West Robert",
         "driver_count": 39,
         "type": "Urban",
         "_deepnote_index_column": 4
        },
        {
         "city": "West Anthony",
         "driver_count": 70,
         "type": "Urban",
         "_deepnote_index_column": 5
        },
        {
         "city": "West Angela",
         "driver_count": 48,
         "type": "Urban",
         "_deepnote_index_column": 6
        },
        {
         "city": "Martinezhaven",
         "driver_count": 25,
         "type": "Urban",
         "_deepnote_index_column": 7
        },
        {
         "city": "Karenberg",
         "driver_count": 22,
         "type": "Urban",
         "_deepnote_index_column": 8
        },
        {
         "city": "Barajasview",
         "driver_count": 26,
         "type": "Urban",
         "_deepnote_index_column": 9
        }
       ]
      },
      "text/plain": "            city  driver_count   type\n0    Richardfort            38  Urban\n1   Williamsstad            59  Urban\n2    Port Angela            67  Urban\n3     Rodneyfort            34  Urban\n4    West Robert            39  Urban\n5   West Anthony            70  Urban\n6    West Angela            48  Urban\n7  Martinezhaven            25  Urban\n8      Karenberg            22  Urban\n9    Barajasview            26  Urban",
      "text/html": "<div>\n<style scoped>\n    .dataframe tbody tr th:only-of-type {\n        vertical-align: middle;\n    }\n\n    .dataframe tbody tr th {\n        vertical-align: top;\n    }\n\n    .dataframe thead th {\n        text-align: right;\n    }\n</style>\n<table border=\"1\" class=\"dataframe\">\n  <thead>\n    <tr style=\"text-align: right;\">\n      <th></th>\n      <th>city</th>\n      <th>driver_count</th>\n      <th>type</th>\n    </tr>\n  </thead>\n  <tbody>\n    <tr>\n      <th>0</th>\n      <td>Richardfort</td>\n      <td>38</td>\n      <td>Urban</td>\n    </tr>\n    <tr>\n      <th>1</th>\n      <td>Williamsstad</td>\n      <td>59</td>\n      <td>Urban</td>\n    </tr>\n    <tr>\n      <th>2</th>\n      <td>Port Angela</td>\n      <td>67</td>\n      <td>Urban</td>\n    </tr>\n    <tr>\n      <th>3</th>\n      <td>Rodneyfort</td>\n      <td>34</td>\n      <td>Urban</td>\n    </tr>\n    <tr>\n      <th>4</th>\n      <td>West Robert</td>\n      <td>39</td>\n      <td>Urban</td>\n    </tr>\n    <tr>\n      <th>5</th>\n      <td>West Anthony</td>\n      <td>70</td>\n      <td>Urban</td>\n    </tr>\n    <tr>\n      <th>6</th>\n      <td>West Angela</td>\n      <td>48</td>\n      <td>Urban</td>\n    </tr>\n    <tr>\n      <th>7</th>\n      <td>Martinezhaven</td>\n      <td>25</td>\n      <td>Urban</td>\n    </tr>\n    <tr>\n      <th>8</th>\n      <td>Karenberg</td>\n      <td>22</td>\n      <td>Urban</td>\n    </tr>\n    <tr>\n      <th>9</th>\n      <td>Barajasview</td>\n      <td>26</td>\n      <td>Urban</td>\n    </tr>\n  </tbody>\n</table>\n</div>"
     },
     "metadata": {}
    }
   ],
   "execution_count": 3
  },
  {
   "cell_type": "code",
   "source": "# Read the ride data file and store it in a pandas DataFrame.\nride_data_df = pd.read_csv(ride_data_to_load)\nride_data_df.head(10)",
   "metadata": {
    "cell_id": "c1790c4bf415460ead2c7c07c19a1b63",
    "tags": [],
    "deepnote_to_be_reexecuted": false,
    "source_hash": "c9fcf020",
    "execution_start": 1660242351271,
    "execution_millis": 555,
    "deepnote_cell_type": "code",
    "deepnote_cell_height": 631
   },
   "outputs": [
    {
     "output_type": "execute_result",
     "execution_count": 4,
     "data": {
      "application/vnd.deepnote.dataframe.v3+json": {
       "column_count": 4,
       "row_count": 10,
       "columns": [
        {
         "name": "city",
         "dtype": "object",
         "stats": {
          "unique_count": 10,
          "nan_count": 0,
          "categories": [
           {
            "name": "Lake Jonathanshire",
            "count": 1
           },
           {
            "name": "South Michelleport",
            "count": 1
           },
           {
            "name": "8 others",
            "count": 8
           }
          ]
         }
        },
        {
         "name": "date",
         "dtype": "object",
         "stats": {
          "unique_count": 10,
          "nan_count": 0,
          "categories": [
           {
            "name": "2019-01-14 10:14:22",
            "count": 1
           },
           {
            "name": "2019-03-04 18:24:09",
            "count": 1
           },
           {
            "name": "8 others",
            "count": 8
           }
          ]
         }
        },
        {
         "name": "fare",
         "dtype": "float64",
         "stats": {
          "unique_count": 10,
          "nan_count": 0,
          "min": "9.52",
          "max": "43.25",
          "histogram": [
           {
            "bin_start": 9.52,
            "bin_end": 12.893,
            "count": 1
           },
           {
            "bin_start": 12.893,
            "bin_end": 16.266,
            "count": 1
           },
           {
            "bin_start": 16.266,
            "bin_end": 19.639,
            "count": 0
           },
           {
            "bin_start": 19.639,
            "bin_end": 23.012,
            "count": 0
           },
           {
            "bin_start": 23.012,
            "bin_end": 26.385,
            "count": 1
           },
           {
            "bin_start": 26.385,
            "bin_end": 29.758,
            "count": 0
           },
           {
            "bin_start": 29.758,
            "bin_end": 33.131,
            "count": 1
           },
           {
            "bin_start": 33.131,
            "bin_end": 36.504000000000005,
            "count": 4
           },
           {
            "bin_start": 36.504000000000005,
            "bin_end": 39.877,
            "count": 0
           },
           {
            "bin_start": 39.877,
            "bin_end": 43.25,
            "count": 2
           }
          ]
         }
        },
        {
         "name": "ride_id",
         "dtype": "int64",
         "stats": {
          "unique_count": 10,
          "nan_count": 0,
          "min": "111953927754",
          "max": "7995623208694",
          "histogram": [
           {
            "bin_start": 111953927754,
            "bin_end": 900320855848,
            "count": 2
           },
           {
            "bin_start": 900320855848,
            "bin_end": 1688687783942,
            "count": 0
           },
           {
            "bin_start": 1688687783942,
            "bin_end": 2477054712036,
            "count": 3
           },
           {
            "bin_start": 2477054712036,
            "bin_end": 3265421640130,
            "count": 0
           },
           {
            "bin_start": 3265421640130,
            "bin_end": 4053788568224,
            "count": 1
           },
           {
            "bin_start": 4053788568224,
            "bin_end": 4842155496318,
            "count": 0
           },
           {
            "bin_start": 4842155496318,
            "bin_end": 5630522424412,
            "count": 2
           },
           {
            "bin_start": 5630522424412,
            "bin_end": 6418889352506,
            "count": 1
           },
           {
            "bin_start": 6418889352506,
            "bin_end": 7207256280600,
            "count": 0
           },
           {
            "bin_start": 7207256280600,
            "bin_end": 7995623208694,
            "count": 1
           }
          ]
         }
        },
        {
         "name": "_deepnote_index_column",
         "dtype": "int64"
        }
       ],
       "rows": [
        {
         "city": "Lake Jonathanshire",
         "date": "2019-01-14 10:14:22",
         "fare": 13.83,
         "ride_id": 5739410935873,
         "_deepnote_index_column": 0
        },
        {
         "city": "South Michelleport",
         "date": "2019-03-04 18:24:09",
         "fare": 30.24,
         "ride_id": 2343912425577,
         "_deepnote_index_column": 1
        },
        {
         "city": "Port Samanthamouth",
         "date": "2019-02-24 04:29:00",
         "fare": 33.44,
         "ride_id": 2005065760003,
         "_deepnote_index_column": 2
        },
        {
         "city": "Rodneyfort",
         "date": "2019-02-10 23:22:03",
         "fare": 23.44,
         "ride_id": 5149245426178,
         "_deepnote_index_column": 3
        },
        {
         "city": "South Jack",
         "date": "2019-03-06 04:28:35",
         "fare": 34.58,
         "ride_id": 3908451377344,
         "_deepnote_index_column": 4
        },
        {
         "city": "South Latoya",
         "date": "2019-03-11 12:26:48",
         "fare": 9.52,
         "ride_id": 1994999424437,
         "_deepnote_index_column": 5
        },
        {
         "city": "New Paulville",
         "date": "2019-02-27 11:17:56",
         "fare": 43.25,
         "ride_id": 793208410091,
         "_deepnote_index_column": 6
        },
        {
         "city": "Simpsonburgh",
         "date": "2019-04-26 00:43:24",
         "fare": 35.98,
         "ride_id": 111953927754,
         "_deepnote_index_column": 7
        },
        {
         "city": "South Karenland",
         "date": "2019-01-08 03:28:48",
         "fare": 35.09,
         "ride_id": 7995623208694,
         "_deepnote_index_column": 8
        },
        {
         "city": "North Jasmine",
         "date": "2019-03-09 06:26:29",
         "fare": 42.81,
         "ride_id": 5327642267789,
         "_deepnote_index_column": 9
        }
       ]
      },
      "text/plain": "                 city                 date   fare        ride_id\n0  Lake Jonathanshire  2019-01-14 10:14:22  13.83  5739410935873\n1  South Michelleport  2019-03-04 18:24:09  30.24  2343912425577\n2  Port Samanthamouth  2019-02-24 04:29:00  33.44  2005065760003\n3          Rodneyfort  2019-02-10 23:22:03  23.44  5149245426178\n4          South Jack  2019-03-06 04:28:35  34.58  3908451377344\n5        South Latoya  2019-03-11 12:26:48   9.52  1994999424437\n6       New Paulville  2019-02-27 11:17:56  43.25   793208410091\n7        Simpsonburgh  2019-04-26 00:43:24  35.98   111953927754\n8     South Karenland  2019-01-08 03:28:48  35.09  7995623208694\n9       North Jasmine  2019-03-09 06:26:29  42.81  5327642267789",
      "text/html": "<div>\n<style scoped>\n    .dataframe tbody tr th:only-of-type {\n        vertical-align: middle;\n    }\n\n    .dataframe tbody tr th {\n        vertical-align: top;\n    }\n\n    .dataframe thead th {\n        text-align: right;\n    }\n</style>\n<table border=\"1\" class=\"dataframe\">\n  <thead>\n    <tr style=\"text-align: right;\">\n      <th></th>\n      <th>city</th>\n      <th>date</th>\n      <th>fare</th>\n      <th>ride_id</th>\n    </tr>\n  </thead>\n  <tbody>\n    <tr>\n      <th>0</th>\n      <td>Lake Jonathanshire</td>\n      <td>2019-01-14 10:14:22</td>\n      <td>13.83</td>\n      <td>5739410935873</td>\n    </tr>\n    <tr>\n      <th>1</th>\n      <td>South Michelleport</td>\n      <td>2019-03-04 18:24:09</td>\n      <td>30.24</td>\n      <td>2343912425577</td>\n    </tr>\n    <tr>\n      <th>2</th>\n      <td>Port Samanthamouth</td>\n      <td>2019-02-24 04:29:00</td>\n      <td>33.44</td>\n      <td>2005065760003</td>\n    </tr>\n    <tr>\n      <th>3</th>\n      <td>Rodneyfort</td>\n      <td>2019-02-10 23:22:03</td>\n      <td>23.44</td>\n      <td>5149245426178</td>\n    </tr>\n    <tr>\n      <th>4</th>\n      <td>South Jack</td>\n      <td>2019-03-06 04:28:35</td>\n      <td>34.58</td>\n      <td>3908451377344</td>\n    </tr>\n    <tr>\n      <th>5</th>\n      <td>South Latoya</td>\n      <td>2019-03-11 12:26:48</td>\n      <td>9.52</td>\n      <td>1994999424437</td>\n    </tr>\n    <tr>\n      <th>6</th>\n      <td>New Paulville</td>\n      <td>2019-02-27 11:17:56</td>\n      <td>43.25</td>\n      <td>793208410091</td>\n    </tr>\n    <tr>\n      <th>7</th>\n      <td>Simpsonburgh</td>\n      <td>2019-04-26 00:43:24</td>\n      <td>35.98</td>\n      <td>111953927754</td>\n    </tr>\n    <tr>\n      <th>8</th>\n      <td>South Karenland</td>\n      <td>2019-01-08 03:28:48</td>\n      <td>35.09</td>\n      <td>7995623208694</td>\n    </tr>\n    <tr>\n      <th>9</th>\n      <td>North Jasmine</td>\n      <td>2019-03-09 06:26:29</td>\n      <td>42.81</td>\n      <td>5327642267789</td>\n    </tr>\n  </tbody>\n</table>\n</div>"
     },
     "metadata": {}
    }
   ],
   "execution_count": 4
  },
  {
   "cell_type": "code",
   "source": "# Get the columns and the rows that are not null.\ncity_data_df.count()",
   "metadata": {
    "cell_id": "65b062dadf884fddbcf18209730b4479",
    "tags": [],
    "deepnote_to_be_reexecuted": false,
    "source_hash": "3f5c5826",
    "execution_start": 1660242562774,
    "execution_millis": 312,
    "deepnote_cell_type": "code",
    "deepnote_cell_height": 188.78125,
    "deepnote_output_heights": [
     78.78125
    ]
   },
   "outputs": [
    {
     "output_type": "execute_result",
     "execution_count": 5,
     "data": {
      "text/plain": "city            120\ndriver_count    120\ntype            120\ndtype: int64"
     },
     "metadata": {}
    }
   ],
   "execution_count": 5
  },
  {
   "cell_type": "code",
   "source": "",
   "metadata": {
    "cell_id": "7c005413386241ddaa066c3adda5177d",
    "tags": [],
    "deepnote_cell_type": "code",
    "deepnote_cell_height": 61
   },
   "outputs": [],
   "execution_count": null
  },
  {
   "cell_type": "code",
   "source": "",
   "metadata": {
    "cell_id": "d364b199b4c04f908673729d9c469f41",
    "tags": [],
    "deepnote_cell_type": "code",
    "deepnote_cell_height": 61
   },
   "outputs": [],
   "execution_count": null
  },
  {
   "cell_type": "code",
   "source": "",
   "metadata": {
    "cell_id": "2ad9b5ee8b894db682b6c368cc15b664",
    "tags": [],
    "deepnote_cell_type": "code",
    "deepnote_cell_height": 61
   },
   "outputs": [],
   "execution_count": null
  },
  {
   "cell_type": "markdown",
   "source": "<a style='text-decoration:none;line-height:16px;display:flex;color:#5B5B62;padding:10px;justify-content:end;' href='https://deepnote.com?utm_source=created-in-deepnote-cell&projectId=365a9671-2afb-4a64-8cd5-d364d9f1feb5' target=\"_blank\">\n<img alt='Created in deepnote.com' style='display:inline;max-height:16px;margin:0px;margin-right:7.5px;' src='data:image/svg+xml;base64,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' > </img>\nCreated in <span style='font-weight:600;margin-left:4px;'>Deepnote</span></a>",
   "metadata": {
    "tags": [],
    "created_in_deepnote_cell": true,
    "deepnote_cell_type": "markdown"
   }
  }
 ],
 "nbformat": 4,
 "nbformat_minor": 2,
 "metadata": {
  "orig_nbformat": 2,
  "deepnote": {},
  "deepnote_notebook_id": "68e029d8-e8f5-429d-afc4-ef192b7432e1",
  "deepnote_execution_queue": []
 }
}